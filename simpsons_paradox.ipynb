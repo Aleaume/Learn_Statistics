{
 "cells": [
  {
   "cell_type": "markdown",
   "metadata": {
    "collapsed": true
   },
   "source": [
    "# Simpson's Paradox\n",
    "Use `admission_data.csv` for this exercise."
   ]
  },
  {
   "cell_type": "code",
   "execution_count": 2,
   "metadata": {},
   "outputs": [
    {
     "data": {
      "text/html": [
       "<div>\n",
       "<style scoped>\n",
       "    .dataframe tbody tr th:only-of-type {\n",
       "        vertical-align: middle;\n",
       "    }\n",
       "\n",
       "    .dataframe tbody tr th {\n",
       "        vertical-align: top;\n",
       "    }\n",
       "\n",
       "    .dataframe thead th {\n",
       "        text-align: right;\n",
       "    }\n",
       "</style>\n",
       "<table border=\"1\" class=\"dataframe\">\n",
       "  <thead>\n",
       "    <tr style=\"text-align: right;\">\n",
       "      <th></th>\n",
       "      <th>student_id</th>\n",
       "      <th>gender</th>\n",
       "      <th>major</th>\n",
       "      <th>admitted</th>\n",
       "    </tr>\n",
       "  </thead>\n",
       "  <tbody>\n",
       "    <tr>\n",
       "      <th>0</th>\n",
       "      <td>35377</td>\n",
       "      <td>female</td>\n",
       "      <td>Chemistry</td>\n",
       "      <td>False</td>\n",
       "    </tr>\n",
       "    <tr>\n",
       "      <th>1</th>\n",
       "      <td>56105</td>\n",
       "      <td>male</td>\n",
       "      <td>Physics</td>\n",
       "      <td>True</td>\n",
       "    </tr>\n",
       "    <tr>\n",
       "      <th>2</th>\n",
       "      <td>31441</td>\n",
       "      <td>female</td>\n",
       "      <td>Chemistry</td>\n",
       "      <td>False</td>\n",
       "    </tr>\n",
       "    <tr>\n",
       "      <th>3</th>\n",
       "      <td>51765</td>\n",
       "      <td>male</td>\n",
       "      <td>Physics</td>\n",
       "      <td>True</td>\n",
       "    </tr>\n",
       "    <tr>\n",
       "      <th>4</th>\n",
       "      <td>53714</td>\n",
       "      <td>female</td>\n",
       "      <td>Physics</td>\n",
       "      <td>True</td>\n",
       "    </tr>\n",
       "  </tbody>\n",
       "</table>\n",
       "</div>"
      ],
      "text/plain": [
       "   student_id  gender      major  admitted\n",
       "0       35377  female  Chemistry     False\n",
       "1       56105    male    Physics      True\n",
       "2       31441  female  Chemistry     False\n",
       "3       51765    male    Physics      True\n",
       "4       53714  female    Physics      True"
      ]
     },
     "execution_count": 2,
     "metadata": {},
     "output_type": "execute_result"
    }
   ],
   "source": [
    "# Load and view first few lines of dataset\n",
    "df = pd.read_csv('admission_data.csv')\n",
    "df.head()"
   ]
  },
  {
   "cell_type": "markdown",
   "metadata": {},
   "source": [
    "### Proportion and admission rate for each gender"
   ]
  },
  {
   "cell_type": "code",
   "execution_count": 18,
   "metadata": {
    "collapsed": true
   },
   "outputs": [
    {
     "name": "stdout",
     "output_type": "stream",
     "text": [
      "257 females for 500 total students, giving a 51.4 % of females\n"
     ]
    }
   ],
   "source": [
    "# Proportion of students that are female\n",
    "total_student = df.shape[0]\n",
    "female_count = df[df['gender'] == 'female']['gender'].count()\n",
    "print('{} females for {} total students, giving a {} % of females'.format(female_count,total_student,female_count/total_student*100))"
   ]
  },
  {
   "cell_type": "code",
   "execution_count": 8,
   "metadata": {
    "collapsed": true
   },
   "outputs": [
    {
     "name": "stdout",
     "output_type": "stream",
     "text": [
      "243 males for 500 total students, giving a 48.6 % of males\n"
     ]
    }
   ],
   "source": [
    "# Proportion of students that are male\n",
    "male_count = df[df['gender'] == 'male']['gender'].count()\n",
    "print('{} males for {} total students, giving a {} % of males'.format(male_count,total_student,male_count/total_student*100))"
   ]
  },
  {
   "cell_type": "code",
   "execution_count": 32,
   "metadata": {
    "collapsed": true
   },
   "outputs": [
    {
     "name": "stdout",
     "output_type": "stream",
     "text": [
      "74 females admitted, giving a 28.79 % admission rate for females\n"
     ]
    }
   ],
   "source": [
    "# Admission rate for females\n",
    "admitted_female_count = df[(df['gender'] == 'female') & (df['admitted'] == True)]['gender'].count()\n",
    "print('{} females admitted, giving a {} % admission rate for females'.format(admitted_female_count,round(admitted_female_count/female_count*100,2)))"
   ]
  },
  {
   "cell_type": "code",
   "execution_count": 33,
   "metadata": {
    "collapsed": true
   },
   "outputs": [
    {
     "name": "stdout",
     "output_type": "stream",
     "text": [
      "118 males admitted, giving a 48.56 % admission rate for males\n"
     ]
    }
   ],
   "source": [
    "# Admission rate for males\n",
    "admitted_male_count = df[(df['gender'] == 'male') & (df['admitted'] == True)]['gender'].count()\n",
    "print('{} males admitted, giving a {} % admission rate for males'.format(admitted_male_count,round(admitted_male_count/male_count*100,2)))"
   ]
  },
  {
   "cell_type": "markdown",
   "metadata": {},
   "source": [
    "### Proportion and admission rate for physics majors of each gender"
   ]
  },
  {
   "cell_type": "code",
   "execution_count": 40,
   "metadata": {
    "collapsed": true
   },
   "outputs": [
    {
     "name": "stdout",
     "output_type": "stream",
     "text": [
      "31 females majoring in Physics, giving a 12.06 % of females\n"
     ]
    }
   ],
   "source": [
    "# What proportion of female students are majoring in physics?\n",
    "physics_female_count = df[(df['gender'] == 'female') & (df['major'] == 'Physics')]['gender'].count()\n",
    "print('{} females majoring in Physics, giving a {} % of females'.format(physics_female_count,round(physics_female_count/female_count*100,2)))"
   ]
  },
  {
   "cell_type": "code",
   "execution_count": 36,
   "metadata": {
    "collapsed": true
   },
   "outputs": [
    {
     "name": "stdout",
     "output_type": "stream",
     "text": [
      "225 males majoring in Physics, giving a 92.59 % of males\n"
     ]
    }
   ],
   "source": [
    "# What proportion of male students are majoring in physics?\n",
    "physics_male_count = df[(df['gender'] == 'male') & (df['major'] == 'Physics')]['gender'].count()\n",
    "print('{} males majoring in Physics, giving a {} % of males'.format(physics_male_count,round(physics_male_count/male_count*100,2)))"
   ]
  },
  {
   "cell_type": "code",
   "execution_count": 37,
   "metadata": {
    "collapsed": true
   },
   "outputs": [
    {
     "name": "stdout",
     "output_type": "stream",
     "text": [
      "23 females majoring in Physics admitted, giving a 74.19 % of Admission rate for female physics majors\n"
     ]
    }
   ],
   "source": [
    "# Admission rate for female physics majors\n",
    "admitted_physics_female_count = df[(df['gender'] == 'female') & (df['major'] == 'Physics') & (df['admitted'] == True)]['gender'].count()\n",
    "print('{} females majoring in Physics admitted, giving a {} % of Admission rate for female physics majors'.format(admitted_physics_female_count,round(admitted_physics_female_count/physics_female_count*100,2)))"
   ]
  },
  {
   "cell_type": "code",
   "execution_count": 38,
   "metadata": {
    "collapsed": true
   },
   "outputs": [
    {
     "name": "stdout",
     "output_type": "stream",
     "text": [
      "116 males majoring in Physics admitted, giving a 51.56 % of Admission rate for male physics majors\n"
     ]
    }
   ],
   "source": [
    "# Admission rate for male physics majors\n",
    "admitted_physics_male_count = df[(df['gender'] == 'male') & (df['major'] == 'Physics') & (df['admitted'] == True)]['gender'].count()\n",
    "print('{} males majoring in Physics admitted, giving a {} % of Admission rate for male physics majors'.format(admitted_physics_male_count,round(admitted_physics_male_count/physics_male_count*100,2)))"
   ]
  },
  {
   "cell_type": "markdown",
   "metadata": {},
   "source": [
    "### Proportion and admission rate for chemistry majors of each gender"
   ]
  },
  {
   "cell_type": "code",
   "execution_count": 41,
   "metadata": {
    "collapsed": true
   },
   "outputs": [
    {
     "name": "stdout",
     "output_type": "stream",
     "text": [
      "226 females majoring in Chemistry, giving a 87.94 % of females\n"
     ]
    }
   ],
   "source": [
    "# What proportion of female students are majoring in chemistry?\n",
    "chemistry_female_count = df[(df['gender'] == 'female') & (df['major'] == 'Chemistry')]['gender'].count()\n",
    "print('{} females majoring in Chemistry, giving a {} % of females'.format(chemistry_female_count,round(chemistry_female_count/female_count*100,2)))"
   ]
  },
  {
   "cell_type": "code",
   "execution_count": 42,
   "metadata": {
    "collapsed": true
   },
   "outputs": [
    {
     "name": "stdout",
     "output_type": "stream",
     "text": [
      "18 males majoring in Chemistry, giving a 7.41 % of males\n"
     ]
    }
   ],
   "source": [
    "# What proportion of male students are majoring in chemistry?\n",
    "chemistry_male_count = df[(df['gender'] == 'male') & (df['major'] == 'Chemistry')]['gender'].count()\n",
    "print('{} males majoring in Chemistry, giving a {} % of males'.format(chemistry_male_count,round(chemistry_male_count/male_count*100,2)))"
   ]
  },
  {
   "cell_type": "code",
   "execution_count": 45,
   "metadata": {
    "collapsed": true
   },
   "outputs": [
    {
     "name": "stdout",
     "output_type": "stream",
     "text": [
      "51 females majoring in Chemistry admitted, giving a 22.57 % of Admission rate for female Chemistry majors\n"
     ]
    }
   ],
   "source": [
    "# Admission rate for female chemistry majors\n",
    "admitted_chemistry_female_count = df[(df['gender'] == 'female') & (df['major'] == 'Chemistry') & (df['admitted'] == True)]['gender'].count()\n",
    "print('{} females majoring in Chemistry admitted, giving a {} % of Admission rate for female Chemistry majors'.format(admitted_chemistry_female_count,round(admitted_chemistry_female_count/chemistry_female_count*100,2)))"
   ]
  },
  {
   "cell_type": "code",
   "execution_count": 44,
   "metadata": {
    "collapsed": true
   },
   "outputs": [
    {
     "name": "stdout",
     "output_type": "stream",
     "text": [
      "2 males majoring in Chemistry admitted, giving a 11.11 % of Admission rate for male Chemistry majors\n"
     ]
    }
   ],
   "source": [
    "# Admission rate for male chemistry majors\n",
    "admitted_chemistry_male_count = df[(df['gender'] == 'male') & (df['major'] == 'Chemistry') & (df['admitted'] == True)]['gender'].count()\n",
    "print('{} males majoring in Chemistry admitted, giving a {} % of Admission rate for male Chemistry majors'.format(admitted_chemistry_male_count,round(admitted_chemistry_male_count/chemistry_male_count*100,2)))"
   ]
  },
  {
   "cell_type": "markdown",
   "metadata": {},
   "source": [
    "### Admission rate for each major"
   ]
  },
  {
   "cell_type": "code",
   "execution_count": 47,
   "metadata": {
    "collapsed": true
   },
   "outputs": [
    {
     "name": "stdout",
     "output_type": "stream",
     "text": [
      "139 admitted students majoring in Physics out of 256 in Physics, or 54 %\n"
     ]
    }
   ],
   "source": [
    "# Admission rate for physics majors\n",
    "physics_count = df[(df['major'] == 'Physics')]['gender'].count()\n",
    "admitted_physics_count = df[(df['major'] == 'Physics') & (df['admitted'] == True)]['gender'].count()\n",
    "\n",
    "print('{} admitted students majoring in Physics out of {} in Physics, or {} %'.format(admitted_physics_count,physics_count,round(admitted_physics_count/physics_count*100),2))"
   ]
  },
  {
   "cell_type": "code",
   "execution_count": 46,
   "metadata": {
    "collapsed": true
   },
   "outputs": [
    {
     "name": "stdout",
     "output_type": "stream",
     "text": [
      "53 admitted students majoring in Chemistry out of 244 in Chemistry, or 22 %\n"
     ]
    }
   ],
   "source": [
    "# Admission rate for chemistry majors\n",
    "chemistry_count = df[(df['major'] == 'Chemistry')]['gender'].count()\n",
    "admitted_chemistry_count = df[(df['major'] == 'Chemistry') & (df['admitted'] == True)]['gender'].count()\n",
    "\n",
    "print('{} admitted students majoring in Chemistry out of {} in Chemistry, or {} %'.format(admitted_chemistry_count,chemistry_count,round(admitted_chemistry_count/chemistry_count*100),2))"
   ]
  }
 ],
 "metadata": {
  "kernelspec": {
   "display_name": "base",
   "language": "python",
   "name": "python3"
  },
  "language_info": {
   "codemirror_mode": {
    "name": "ipython",
    "version": 3
   },
   "file_extension": ".py",
   "mimetype": "text/x-python",
   "name": "python",
   "nbconvert_exporter": "python",
   "pygments_lexer": "ipython3",
   "version": "3.8.5"
  },
  "vscode": {
   "interpreter": {
    "hash": "c79c4358b949a0ee2d7e2d04baf6a08d44c4d984c64c212f6b1c20230d24189d"
   }
  }
 },
 "nbformat": 4,
 "nbformat_minor": 2
}
