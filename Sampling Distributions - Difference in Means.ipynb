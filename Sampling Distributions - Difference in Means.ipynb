{
 "cells": [
  {
   "cell_type": "markdown",
   "metadata": {},
   "source": [
    "### Confidence Interval - Difference In Means\n",
    "\n",
    "Here you will look through the example from the last video, but you will also go a couple of steps further into what might actually be going on with this data."
   ]
  },
  {
   "cell_type": "code",
   "execution_count": 6,
   "metadata": {
    "collapsed": true
   },
   "outputs": [],
   "source": [
    "import pandas as pd\n",
    "import numpy as np\n",
    "import matplotlib.pyplot as plt\n",
    "\n",
    "%matplotlib inline\n",
    "np.random.seed(42)\n",
    "\n",
    "full_data = pd.read_csv('coffee_dataset_2.csv')\n",
    "sample_data = full_data.sample(200)"
   ]
  },
  {
   "cell_type": "markdown",
   "metadata": {},
   "source": [
    "`1.` For 10,000 iterations, bootstrap sample your sample data, compute the difference in the average heights for coffee and non-coffee drinkers.  Build a 99% confidence interval using your sampling distribution.  Use your interval to start answering the first quiz question below."
   ]
  },
  {
   "cell_type": "code",
   "execution_count": 7,
   "metadata": {
    "collapsed": true
   },
   "outputs": [
    {
     "data": {
      "text/plain": [
       "(0.8001772403397108, 3.077608798270255)"
      ]
     },
     "execution_count": 7,
     "metadata": {},
     "output_type": "execute_result"
    }
   ],
   "source": [
    "diff_height = []\n",
    "\n",
    "for _ in range(10000):\n",
    "    sample_data = full_data.sample(200)\n",
    "    mean_coff = sample_data[sample_data['drinks_coffee'] == True]['height'].mean()\n",
    "    mean_no_coff = sample_data[sample_data['drinks_coffee'] == False]['height'].mean()\n",
    "    diff_height.append(mean_coff - mean_no_coff)\n",
    "\n",
    "diff_height = np.array(diff_height)\n",
    "\n",
    "np.percentile(diff_height,0.5) , np.percentile(diff_height,99.5)"
   ]
  },
  {
   "cell_type": "markdown",
   "metadata": {},
   "source": [
    "`2.` For 10,000 iterations, bootstrap sample your sample data, compute the difference in the average heights for those older than 21 and those younger than 21.  Build a 99% confidence interval using your sampling distribution.  Use your interval to finish answering the first quiz question below.  "
   ]
  },
  {
   "cell_type": "code",
   "execution_count": 4,
   "metadata": {
    "collapsed": true
   },
   "outputs": [
    {
     "data": {
      "text/plain": [
       "(2.9636801411800535, 4.734829004279066)"
      ]
     },
     "execution_count": 4,
     "metadata": {},
     "output_type": "execute_result"
    }
   ],
   "source": [
    "diff_height_age = []\n",
    "\n",
    "for _ in range(10000):\n",
    "    sample_data = full_data.sample(200)\n",
    "    mean_und21 = sample_data[sample_data['age'] == '<21']['height'].mean()\n",
    "    mean_21 = sample_data[sample_data['age'] == '>=21']['height'].mean()\n",
    "    diff_height_age.append(mean_21 - mean_und21)\n",
    "\n",
    "diff_height_age = np.array(diff_height_age)\n",
    "\n",
    "np.percentile(diff_height_age,0.5) , np.percentile(diff_height_age,99.5)"
   ]
  },
  {
   "cell_type": "markdown",
   "metadata": {},
   "source": [
    "`3.` For 10,000 iterations bootstrap your sample data, compute the **difference** in the average height for coffee drinkers and the average height for non-coffee drinkers for individuals **under** 21 years old.  Using your sampling distribution, build a 95% confidence interval.  Use your interval to start answering question 2 below."
   ]
  },
  {
   "cell_type": "code",
   "execution_count": 8,
   "metadata": {
    "collapsed": true
   },
   "outputs": [
    {
     "data": {
      "text/plain": [
       "(-2.482162245458121, -0.8988714676981054)"
      ]
     },
     "execution_count": 8,
     "metadata": {},
     "output_type": "execute_result"
    }
   ],
   "source": [
    "diff_height_und21 = []\n",
    "\n",
    "for _ in range(10000):\n",
    "    sample_data = full_data.sample(200)\n",
    "    mean_und21_coff = sample_data[(sample_data['age'] == '<21') & (sample_data['drinks_coffee'] == True)]['height'].mean()\n",
    "    mean_und21_nocoff = sample_data[(sample_data['age'] == '<21') & (sample_data['drinks_coffee'] == False)]['height'].mean()\n",
    "    diff_height_und21.append(mean_und21_coff - mean_und21_nocoff)\n",
    "\n",
    "diff_height_und21 = np.array(diff_height_und21)\n",
    "\n",
    "np.percentile(diff_height_und21,2.5) , np.percentile(diff_height_und21,97.5)"
   ]
  },
  {
   "cell_type": "markdown",
   "metadata": {},
   "source": [
    "`4.` For 10,000 iterations bootstrap your sample data, compute the **difference** in the average height for coffee drinkers and the average height for non-coffee drinkers for individuals **over** 21 years old.  Using your sampling distribution, build a 95% confidence interval. Use your interval to finish answering the second quiz question below. As well as the following questions. "
   ]
  },
  {
   "cell_type": "code",
   "execution_count": 9,
   "metadata": {
    "collapsed": true
   },
   "outputs": [
    {
     "data": {
      "text/plain": [
       "(-3.258247808993396, -0.6670423691171735)"
      ]
     },
     "execution_count": 9,
     "metadata": {},
     "output_type": "execute_result"
    }
   ],
   "source": [
    "diff_height_21 = []\n",
    "\n",
    "for _ in range(10000):\n",
    "    sample_data = full_data.sample(200)\n",
    "    mean_21_coff = sample_data[(sample_data['age'] == '>=21') & (sample_data['drinks_coffee'] == True)]['height'].mean()\n",
    "    mean_21_nocoff = sample_data[(sample_data['age'] == '>=21') & (sample_data['drinks_coffee'] == False)]['height'].mean()\n",
    "    diff_height_21.append(mean_21_coff - mean_21_nocoff)\n",
    "\n",
    "diff_height_21 = np.array(diff_height_21)\n",
    "\n",
    "np.percentile(diff_height_21,2.5) , np.percentile(diff_height_21,97.5)"
   ]
  }
 ],
 "metadata": {
  "kernelspec": {
   "display_name": "base",
   "language": "python",
   "name": "python3"
  },
  "language_info": {
   "codemirror_mode": {
    "name": "ipython",
    "version": 3
   },
   "file_extension": ".py",
   "mimetype": "text/x-python",
   "name": "python",
   "nbconvert_exporter": "python",
   "pygments_lexer": "ipython3",
   "version": "3.8.5"
  },
  "vscode": {
   "interpreter": {
    "hash": "c79c4358b949a0ee2d7e2d04baf6a08d44c4d984c64c212f6b1c20230d24189d"
   }
  }
 },
 "nbformat": 4,
 "nbformat_minor": 2
}
